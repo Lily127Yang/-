{
 "cells": [
  {
   "cell_type": "code",
   "execution_count": 2,
   "metadata": {
    "collapsed": true
   },
   "outputs": [
    {
     "ename": "UnpicklingError",
     "evalue": "invalid load key, '\\x00'.",
     "output_type": "error",
     "traceback": [
      "\u001b[1;31m---------------------------------------------------------------------------\u001b[0m",
      "\u001b[1;31mUnpicklingError\u001b[0m                           Traceback (most recent call last)",
      "Cell \u001b[1;32mIn[2], line 11\u001b[0m\n\u001b[0;32m      9\u001b[0m FileName \u001b[38;5;241m=\u001b[39m \u001b[38;5;124m'\u001b[39m\u001b[38;5;124mt10k-labels-idx1-ubyte.gz\u001b[39m\u001b[38;5;124m'\u001b[39m\n\u001b[0;32m     10\u001b[0m \u001b[38;5;28;01mwith\u001b[39;00m gzip\u001b[38;5;241m.\u001b[39mopen((Data \u001b[38;5;241m/\u001b[39m FileName)\u001b[38;5;241m.\u001b[39mas_posix(), \u001b[38;5;124m\"\u001b[39m\u001b[38;5;124mrb\u001b[39m\u001b[38;5;124m\"\u001b[39m) \u001b[38;5;28;01mas\u001b[39;00m f:\n\u001b[1;32m---> 11\u001b[0m     ((x_train, y_train), (x_valid, y_valid), (x_test, y_test)) \u001b[38;5;241m=\u001b[39m \u001b[43mpickle\u001b[49m\u001b[38;5;241;43m.\u001b[39;49m\u001b[43mload\u001b[49m\u001b[43m(\u001b[49m\u001b[43mf\u001b[49m\u001b[43m)\u001b[49m\n",
      "\u001b[1;31mUnpicklingError\u001b[0m: invalid load key, '\\x00'."
     ]
    }
   ],
   "source": [
    "import os\n",
    "from pathlib import Path\n",
    "import requests\n",
    "import pickle\n",
    "import gzip\n",
    "\n",
    "pj_root = os.getcwd()\n",
    "Data = Path(r'data')\n",
    "FileName = 't10k-labels-idx1-ubyte.gz'\n",
    "with gzip.open((Data / FileName).as_posix(), \"rb\") as f:\n",
    "    ((x_train, y_train), (x_valid, y_valid), (x_test, y_test)) = pickle.load(f)"
   ]
  },
  {
   "cell_type": "code",
   "execution_count": 6,
   "metadata": {
    "collapsed": false,
    "pycharm": {
     "name": "#%%\n"
    }
   },
   "outputs": [],
   "source": [
    "import numpy as np\n",
    "def read_image(file_path):\n",
    "    \"\"\"读取MNIST图片\n",
    "\n",
    "    Args:\n",
    "        file_path (str): 图片文件位置\n",
    "\n",
    "    Returns:\n",
    "        list: 图片列表\n",
    "    \"\"\"\n",
    "    with open(file_path,'rb') as f:\n",
    "        file = f.read()\n",
    "        img_num = int.from_bytes(file[4:8],byteorder='big') #图片数量\n",
    "        img_h = int.from_bytes(file[8:12],byteorder='big') #图片h\n",
    "        img_w = int.from_bytes(file[12:16],byteorder='big') #图片w\n",
    "        img_data = []\n",
    "        file = file[16:]\n",
    "        data_len = img_h*img_w\n",
    "\n",
    "        for i in range(img_num):\n",
    "            data = [item/255 for item in file[i*data_len:(i+1)*data_len]]\n",
    "            img_data.append(np.array(data).reshape(img_h,img_w))\n",
    "\n",
    "        return img_data\n",
    "\n",
    "def read_label(file_path):\n",
    "    with open(file_path,'rb') as f:\n",
    "        file = f.read()\n",
    "        label_num = int.from_bytes(file[4:8],byteorder='big') #label的数量\n",
    "        file = file[8:]\n",
    "        label_data = []\n",
    "        for i in range(label_num):\n",
    "            label_data.append(file[i])\n",
    "        return label_data\n",
    "\n",
    "\n",
    "train_img  = read_image(\"data/train-images.idx3-ubyte\")\n",
    "train_label = read_label(\"data/train-labels.idx1-ubyte\")"
   ]
  },
  {
   "cell_type": "code",
   "execution_count": null,
   "metadata": {
    "collapsed": false,
    "pycharm": {
     "name": "#%%\n"
    }
   },
   "outputs": [],
   "source": [
    "from sklearn.model_selection import train_test_split\n",
    "train_img,valid_img,train_label,valid_label = train_test_split(train_img,train_label,test_size=0.2,shuffle=True)"
   ]
  },
  {
   "cell_type": "code",
   "execution_count": null,
   "metadata": {
    "collapsed": false,
    "pycharm": {
     "name": "#%%\n"
    }
   },
   "outputs": [],
   "source": [
    "import torch\n",
    "\n",
    "train_loader = torch.utils.data.DataLoader(train_img)"
   ]
  },
  {
   "cell_type": "code",
   "execution_count": 7,
   "metadata": {
    "collapsed": false,
    "pycharm": {
     "name": "#%%\n"
    }
   },
   "outputs": [],
   "source": [
    "import torchvision\n",
    "import torch\n",
    "import torchvision.transforms as transforms\n",
    "\n",
    "# Loading the dataset and preprocessing\n",
    "train_dataset = torchvision.datasets.MNIST(root='./data',\n",
    "                                           train=True,\n",
    "                                           transform=transforms.Compose([\n",
    "                                               # transforms.Resize((32, 32)),\n",
    "                                               transforms.ToTensor(),\n",
    "                                               transforms.Normalize(mean=(0.1307,), std=(0.3081,))]),\n",
    "                                           download=True)\n",
    "\n",
    "test_dataset = torchvision.datasets.MNIST(root='./data',\n",
    "                                          train=False,\n",
    "                                          transform=transforms.Compose([\n",
    "                                              # transforms.Resize((32, 32)),\n",
    "                                              transforms.ToTensor(),\n",
    "                                              transforms.Normalize(mean=(0.1325,), std=(0.3105,))]),\n",
    "                                          download=True)\n",
    "\n",
    "train_size = int(0.8 * len(train_dataset))\n",
    "val_size = len(train_dataset) - train_size\n",
    "train_dataset, val_dataset = torch.utils.data.random_split(train_dataset, [train_size, val_size])\n",
    "\n",
    "\n",
    "train_loader = torch.utils.data.DataLoader(dataset=train_dataset,\n",
    "                                           batch_size=64,\n",
    "                                           shuffle=True,\n",
    "                                           num_workers=4)\n",
    "\n",
    "val_loader = torch.utils.data.DataLoader(dataset=val_dataset,\n",
    "                                           batch_size=64,\n",
    "                                           shuffle=True,\n",
    "                                           num_workers=4)\n",
    "\n",
    "test_loader = torch.utils.data.DataLoader(dataset=test_dataset,\n",
    "                                          batch_size=64,\n",
    "                                          shuffle=True,\n",
    "                                          num_workers=4)"
   ]
  }
 ],
 "metadata": {
  "kernelspec": {
   "display_name": "Python 3",
   "language": "python",
   "name": "python3"
  },
  "language_info": {
   "codemirror_mode": {
    "name": "ipython",
    "version": 2
   },
   "file_extension": ".py",
   "mimetype": "text/x-python",
   "name": "python",
   "nbconvert_exporter": "python",
   "pygments_lexer": "ipython2",
   "version": "2.7.6"
  }
 },
 "nbformat": 4,
 "nbformat_minor": 0
}
